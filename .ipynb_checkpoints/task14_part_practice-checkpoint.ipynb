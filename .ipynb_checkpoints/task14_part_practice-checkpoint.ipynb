{
 "cells": [
  {
   "cell_type": "markdown",
   "metadata": {
    "id": "hUyVht3VGCYT"
   },
   "source": [
    "## Действительно ли помогают неразмеченные данные?"
   ]
  },
  {
   "cell_type": "markdown",
   "metadata": {
    "id": "xzax-PaKGCYU"
   },
   "source": [
    "Частичное обучение (semi-supervised learning) предлагает методы работы с выборками, в которых лишь для части объектов известны ответы. В статьях утверждается, что добавление неразмеченных данных позволяет повысить качество работы — давайте выясним, так ли это!"
   ]
  },
  {
   "cell_type": "markdown",
   "metadata": {
    "id": "AE0DADpzGCYU"
   },
   "source": [
    "Наверное, проще всего добыть неразмеченные примеры, если речь идёт о работе с текстами или изображениями. Остановимся на текстах.\n",
    "\n",
    "Будем работать с данными из соревнования Predict closed questions on Stack Overflow: https://www.kaggle.com/c/predict-closed-questions-on-stack-overflow/data\n",
    "\n",
    "Нас будет интересовать файл train-sample.csv — загрузите его. Будем решать бинарную задачу: отнесём объект к классу 1, если `OpenStatus == 'open'`, и к классу 0 иначе."
   ]
  },
  {
   "cell_type": "markdown",
   "metadata": {
    "id": "80AboDWcGCYU"
   },
   "source": [
    "**Задание 1. (5 баллов)**\n",
    "\n",
    "Загрузите данные и подготовьте выборку. В качестве признаков возьмите TF-IDF по BodyMarkdown с `min_df=10`; про целевую переменную написано выше. Выделите тестовую выборку из 5000 объектов."
   ]
  },
  {
   "cell_type": "code",
   "execution_count": 1,
   "metadata": {
    "id": "Maolsl55GCYU"
   },
   "outputs": [],
   "source": [
    "import pandas as pd\n",
    "\n",
    "data = pd.read_csv(\"train-sample.csv\")\n",
    "data[\"OpenStatus\"] = data[\"OpenStatus\"].apply(lambda x: 1 if x == \"open\" else 0)"
   ]
  },
  {
   "cell_type": "code",
   "execution_count": 2,
   "metadata": {
    "colab": {
     "base_uri": "https://localhost:8080/"
    },
    "id": "CV8SLGF_QXf9",
    "outputId": "153d750d-6009-4ee5-9dfc-59d99cefc01a"
   },
   "outputs": [
    {
     "name": "stdout",
     "output_type": "stream",
     "text": [
      "Train shape: (135272, 23176)\n",
      "Test shape: (5000, 23176)\n"
     ]
    }
   ],
   "source": [
    "import numpy as np\n",
    "from sklearn.feature_extraction.text import TfidfVectorizer\n",
    "from sklearn.model_selection import train_test_split\n",
    "\n",
    "vectorizer = TfidfVectorizer(min_df=10)\n",
    "X = vectorizer.fit_transform(data[\"BodyMarkdown\"].fillna(\"\"))\n",
    "\n",
    "y = data[\"OpenStatus\"].values\n",
    "\n",
    "X_train, X_test, y_train, y_test = train_test_split(X, y, test_size=5000, random_state=42)\n",
    "\n",
    "print(f\"Train shape: {X_train.shape}\")\n",
    "print(f\"Test shape: {X_test.shape}\")"
   ]
  },
  {
   "cell_type": "markdown",
   "metadata": {
    "id": "EQ6fbnQDGCYV"
   },
   "source": [
    "Нас будут интересовать качество (AUC-ROC) в четырёх следующих постановках:\n",
    "1. Модель обучается только на размеченных данных.\n",
    "2. Модель обучается на размеченных и неразмеченных данных, причём неразмеченная часть не пересекается с тестовой выборкой.\n",
    "3. Модель обучается на размеченных и неразмеченных данных, причём неразмеченная часть совпадает с тестовой выборкой.\n",
    "4. Модель обучается на размеченных и неразмеченных данных, причём неразмеченная часть включает в себя тестовую выборку."
   ]
  },
  {
   "cell_type": "markdown",
   "metadata": {
    "id": "mC6VqhpgGCYW"
   },
   "source": [
    "**Задание 1. (5 баллов)**\n",
    "\n",
    "Проведите эксперименты и сделайте выводы для любого из методов пакета `sklearn.semi_supervised` и для логистической регрессии"
   ]
  },
  {
   "cell_type": "code",
   "execution_count": 3,
   "metadata": {
    "id": "56uXlzINGCYW"
   },
   "outputs": [],
   "source": [
    "from sklearn.linear_model import LogisticRegression\n",
    "from sklearn.semi_supervised import SelfTrainingClassifier\n",
    "from sklearn.metrics import roc_auc_score\n",
    "\n",
    "X_train_labeled, X_train_unlabeled, y_train_labeled, y_train_unlabeled = train_test_split(X_train, y_train, test_size=0.05, random_state=42)\n",
    "\n",
    "y_train_unlabeled1 = np.copy(y_train_unlabeled)\n",
    "y_train_unlabeled[:] = -1"
   ]
  },
  {
   "cell_type": "code",
   "execution_count": 4,
   "metadata": {
    "colab": {
     "base_uri": "https://localhost:8080/"
    },
    "id": "WcoXoCVYQXf-",
    "outputId": "76ce9349-ae14-4d09-ccf1-2b927d19f1e7"
   },
   "outputs": [
    {
     "name": "stdout",
     "output_type": "stream",
     "text": [
      "AUC-ROC (labeled data): 0.8093\n"
     ]
    }
   ],
   "source": [
    "# 1. Model on labeled data\n",
    "clf_lr = LogisticRegression(max_iter=1000)\n",
    "clf_lr.fit(X_train_labeled, y_train_labeled)\n",
    "y_pred_lr = clf_lr.predict_proba(X_test)[:, 1]\n",
    "auc_lr = roc_auc_score(y_test, y_pred_lr)\n",
    "\n",
    "print(f\"AUC-ROC (labeled data): {auc_lr:.4f}\")"
   ]
  },
  {
   "cell_type": "code",
   "execution_count": 5,
   "metadata": {},
   "outputs": [
    {
     "name": "stdout",
     "output_type": "stream",
     "text": [
      "AUC-ROC (labeled + unlabeled, not overlapping with the test set): 0.8094\n"
     ]
    }
   ],
   "source": [
    "from scipy.sparse import vstack\n",
    "\n",
    "# 2. Labeled + unlabeled data (not overlapping with the test set)\n",
    "clf_semi_1 = SelfTrainingClassifier(LogisticRegression(max_iter=1000))\n",
    "clf_semi_1.fit(vstack([X_train_labeled, X_train_unlabeled]), np.concatenate((y_train_labeled, y_train_unlabeled)))\n",
    "y_pred_semi_1 = clf_semi_1.predict_proba(X_test)[:, 1]\n",
    "auc_semi_1 = roc_auc_score(y_test, y_pred_semi_1)\n",
    "\n",
    "print(f\"AUC-ROC (labeled + unlabeled, not overlapping with the test set): {auc_semi_1:.4f}\")"
   ]
  },
  {
   "cell_type": "code",
   "execution_count": 6,
   "metadata": {
    "id": "xVPsBIy6QXf-"
   },
   "outputs": [
    {
     "name": "stdout",
     "output_type": "stream",
     "text": [
      "AUC-ROC (labeled + unlabeled, overlapping with the test set): 0.8095\n"
     ]
    }
   ],
   "source": [
    "from scipy.sparse import vstack\n",
    "\n",
    "# 3. Labeled + unlabeled data (overlapping with the test set)\n",
    "clf_semi_2 = SelfTrainingClassifier(LogisticRegression(max_iter=1000))\n",
    "clf_semi_2.fit(vstack([X_train_labeled, X_test]), np.concatenate([y_train_labeled, np.full(X_test.shape[0], -1)]))\n",
    "y_pred_semi_2 = clf_semi_2.predict_proba(X_test)[:, 1]\n",
    "auc_semi_2 = roc_auc_score(y_test, y_pred_semi_2)\n",
    "\n",
    "print(f\"AUC-ROC (labeled + unlabeled, overlapping with the test set): {auc_semi_2:.4f}\")"
   ]
  },
  {
   "cell_type": "code",
   "execution_count": 7,
   "metadata": {
    "id": "VstWJnN1QXf_"
   },
   "outputs": [
    {
     "name": "stdout",
     "output_type": "stream",
     "text": [
      "AUC-ROC (labeled + unlabeled, including the test set): 0.8103\n"
     ]
    }
   ],
   "source": [
    "from scipy.sparse import vstack\n",
    "\n",
    "# 4. Labeled + unlabeled data (including the test set)x\n",
    "clf_semi_3 = SelfTrainingClassifier(LogisticRegression(max_iter=1000))\n",
    "clf_semi_3.fit(vstack([X_train, X_test]), np.concatenate([y_train, np.full(X_test.shape[0], -1)]))\n",
    "y_pred_semi_3 = clf_semi_3.predict_proba(X_test)[:, 1]\n",
    "auc_semi_3 = roc_auc_score(y_test, y_pred_semi_3)\n",
    "\n",
    "print(f\"AUC-ROC (labeled + unlabeled, including the test set): {auc_semi_3:.4f}\")"
   ]
  },
  {
   "cell_type": "markdown",
   "metadata": {},
   "source": [
    "**Вывод**: точность действительно немного, но повысилась"
   ]
  },
  {
   "cell_type": "markdown",
   "metadata": {
    "id": "-zAyScB_GCYW"
   },
   "source": [
    "### Self-train\n",
    "\n",
    "Обучаем на размеченной части, предсказываем неразмеченную, потом обучаем на всех, и предсказываем неразмеченную, повторяем пока не сойдёмся в предскзааниях неразмеченной части"
   ]
  },
  {
   "cell_type": "code",
   "execution_count": 8,
   "metadata": {
    "id": "bnCGJ12OHqGO"
   },
   "outputs": [
    {
     "name": "stdout",
     "output_type": "stream",
     "text": [
      "Converged!\n"
     ]
    }
   ],
   "source": [
    "import numpy as np\n",
    "from sklearn.linear_model import LogisticRegression\n",
    "from sklearn.metrics import accuracy_score\n",
    "from scipy.sparse import vstack\n",
    "from IPython.display import clear_output\n",
    "\n",
    "model = LogisticRegression()\n",
    "\n",
    "model.fit(X_train_labeled, y_train_labeled)\n",
    "    \n",
    "y_pred = model.predict(X_train_unlabeled)\n",
    "\n",
    "prev_y_pred = y_pred\n",
    "for i in range(1000):\n",
    "    print(f\"Epoch #{i+1}\")\n",
    "    \n",
    "    model.fit(vstack((X_train_labeled, X_train_unlabeled)), np.concatenate((y_train_labeled, y_pred)))\n",
    "    \n",
    "    y_pred = model.predict(X_train_unlabeled)\n",
    "    \n",
    "    if np.array_equal(prev_y_pred, y_pred):\n",
    "        clear_output()\n",
    "        print(\"Converged!\")\n",
    "        break\n",
    "\n",
    "    prev_y_pred = y_pred"
   ]
  },
  {
   "cell_type": "code",
   "execution_count": 10,
   "metadata": {},
   "outputs": [
    {
     "name": "stdout",
     "output_type": "stream",
     "text": [
      "Recovery accuracy: 0.7461561206386753\n",
      "Test accuracy: 0.7276\n"
     ]
    }
   ],
   "source": [
    "y_true = y_train_unlabeled1\n",
    "accuracy = accuracy_score(y_true, y_pred) if y_true is not None else \"No labels for getting score\"\n",
    "print(f\"Recovery accuracy: {accuracy}\")\n",
    "\n",
    "accuracy_pred = accuracy_score(y_test, model.predict(X_test))\n",
    "print(f\"Test accuracy: {accuracy_pred}\")"
   ]
  }
 ],
 "metadata": {
  "colab": {
   "provenance": []
  },
  "kernelspec": {
   "display_name": "Python 3 (ipykernel)",
   "language": "python",
   "name": "python3"
  },
  "language_info": {
   "codemirror_mode": {
    "name": "ipython",
    "version": 3
   },
   "file_extension": ".py",
   "mimetype": "text/x-python",
   "name": "python",
   "nbconvert_exporter": "python",
   "pygments_lexer": "ipython3",
   "version": "3.9.21"
  }
 },
 "nbformat": 4,
 "nbformat_minor": 4
}
